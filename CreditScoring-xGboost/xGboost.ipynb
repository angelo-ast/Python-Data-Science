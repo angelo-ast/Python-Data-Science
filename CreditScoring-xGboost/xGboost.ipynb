{
 "cells": [
  {
   "cell_type": "markdown",
   "metadata": {},
   "source": [
    "# Predicting Loan Repayment using XGBoost\n",
    "## Environment and Data\n",
    "\n",
    "First, we will import the Python libraries needed for this exercise.\n",
    "\n",
    "We can then load the CSV databases with the training and validation entries."
   ]
  },
  {
   "cell_type": "code",
   "execution_count": 60,
   "metadata": {},
   "outputs": [
    {
     "data": {
      "text/plain": [
       "v1              69\n",
       "v2               0\n",
       "v3              42\n",
       "v4               0\n",
       "v5               0\n",
       "v6              42\n",
       "v7               0\n",
       "v8             103\n",
       "v9               0\n",
       "v10              0\n",
       "v11             66\n",
       "v12              0\n",
       "v13              0\n",
       "v14             69\n",
       "v15           2256\n",
       "v16            103\n",
       "v17              0\n",
       "v18             66\n",
       "v19              0\n",
       "v20              0\n",
       "v21              0\n",
       "classlabel       0\n",
       "dtype: int64"
      ]
     },
     "execution_count": 60,
     "metadata": {},
     "output_type": "execute_result"
    }
   ],
   "source": [
    "import pandas as pd\n",
    "import numpy as np\n",
    "%matplotlib inline\n",
    "import matplotlib.pyplot as plt\n",
    "from numpy import sort\n",
    "from xgboost import XGBClassifier, plot_importance, plot_tree\n",
    "from sklearn.model_selection import train_test_split\n",
    "from sklearn.metrics import accuracy_score, confusion_matrix, classification_report \n",
    "from sklearn.feature_selection import SelectFromModel\n",
    "\n",
    "pd.set_option('display.float_format', lambda x: '%8.2f' % x)\n",
    "\n",
    "# Reading the data with ; as separator\n",
    "train = pd.read_csv('Training.csv', delimiter = \";\", decimal = \",\")\n",
    "valid = pd.read_csv('Validation.csv', delimiter = \";\", decimal = \",\")\n",
    "total_data = pd.concat([train, valid], axis = 0)\n",
    "total_data.columns = ['v1','v2','v3','v4','v5','v6','v7','v8','v9','v10','v11','v12','v13','v14','v15','v16','v17','v18','v19','v20','v21','classlabel']\n",
    "\n",
    "# Checking how many NA values exist\n",
    "total_data.isnull().sum()"
   ]
  },
  {
   "cell_type": "markdown",
   "metadata": {},
   "source": [
    "From the above, we notice that only one variable has a significant number of NA values. In fact, `v15` has 2256 NAs out of 3900 entries or **57.85% of total**. In this case, it is safe to ignore this variable moving on. For the rest of them, since the number of NA values is less than 3% of total, we can just drop the lines where we have NA values with the *.dropna()* function."
   ]
  },
  {
   "cell_type": "code",
   "execution_count": 46,
   "metadata": {},
   "outputs": [
    {
     "data": {
      "text/html": [
       "<div>\n",
       "<style>\n",
       "    .dataframe thead tr:only-child th {\n",
       "        text-align: right;\n",
       "    }\n",
       "\n",
       "    .dataframe thead th {\n",
       "        text-align: left;\n",
       "    }\n",
       "\n",
       "    .dataframe tbody tr th {\n",
       "        vertical-align: top;\n",
       "    }\n",
       "</style>\n",
       "<table border=\"1\" class=\"dataframe\">\n",
       "  <thead>\n",
       "    <tr style=\"text-align: right;\">\n",
       "      <th></th>\n",
       "      <th>count</th>\n",
       "      <th>mean</th>\n",
       "      <th>std</th>\n",
       "      <th>min</th>\n",
       "      <th>25%</th>\n",
       "      <th>50%</th>\n",
       "      <th>75%</th>\n",
       "      <th>max</th>\n",
       "    </tr>\n",
       "  </thead>\n",
       "  <tbody>\n",
       "    <tr>\n",
       "      <th>v3</th>\n",
       "      <td>3713.00</td>\n",
       "      <td>32.85</td>\n",
       "      <td>12.49</td>\n",
       "      <td>13.75</td>\n",
       "      <td>22.92</td>\n",
       "      <td>28.92</td>\n",
       "      <td>40.83</td>\n",
       "      <td>76.75</td>\n",
       "    </tr>\n",
       "    <tr>\n",
       "      <th>v5</th>\n",
       "      <td>3713.00</td>\n",
       "      <td>3.43</td>\n",
       "      <td>4.34</td>\n",
       "      <td>0.00</td>\n",
       "      <td>0.54</td>\n",
       "      <td>1.75</td>\n",
       "      <td>5.00</td>\n",
       "      <td>28.50</td>\n",
       "    </tr>\n",
       "    <tr>\n",
       "      <th>v8</th>\n",
       "      <td>3713.00</td>\n",
       "      <td>164.08</td>\n",
       "      <td>158.78</td>\n",
       "      <td>0.00</td>\n",
       "      <td>0.00</td>\n",
       "      <td>120.00</td>\n",
       "      <td>280.00</td>\n",
       "      <td>2000.00</td>\n",
       "    </tr>\n",
       "    <tr>\n",
       "      <th>v9</th>\n",
       "      <td>3713.00</td>\n",
       "      <td>0.00</td>\n",
       "      <td>0.00</td>\n",
       "      <td>0.00</td>\n",
       "      <td>0.00</td>\n",
       "      <td>0.00</td>\n",
       "      <td>0.00</td>\n",
       "      <td>0.00</td>\n",
       "    </tr>\n",
       "    <tr>\n",
       "      <th>v10</th>\n",
       "      <td>3713.00</td>\n",
       "      <td>4.22</td>\n",
       "      <td>6.77</td>\n",
       "      <td>0.00</td>\n",
       "      <td>0.00</td>\n",
       "      <td>2.00</td>\n",
       "      <td>6.00</td>\n",
       "      <td>67.00</td>\n",
       "    </tr>\n",
       "    <tr>\n",
       "      <th>v12</th>\n",
       "      <td>3713.00</td>\n",
       "      <td>3.32</td>\n",
       "      <td>1.00</td>\n",
       "      <td>0.00</td>\n",
       "      <td>2.64</td>\n",
       "      <td>3.32</td>\n",
       "      <td>3.99</td>\n",
       "      <td>6.62</td>\n",
       "    </tr>\n",
       "    <tr>\n",
       "      <th>v16</th>\n",
       "      <td>3713.00</td>\n",
       "      <td>1640816.05</td>\n",
       "      <td>1587819.31</td>\n",
       "      <td>0.00</td>\n",
       "      <td>0.00</td>\n",
       "      <td>1200000.00</td>\n",
       "      <td>2800000.00</td>\n",
       "      <td>20000000.00</td>\n",
       "    </tr>\n",
       "    <tr>\n",
       "      <th>v17</th>\n",
       "      <td>3713.00</td>\n",
       "      <td>2139.10</td>\n",
       "      <td>8548.36</td>\n",
       "      <td>0.00</td>\n",
       "      <td>0.00</td>\n",
       "      <td>108.00</td>\n",
       "      <td>1000.00</td>\n",
       "      <td>100000.00</td>\n",
       "    </tr>\n",
       "    <tr>\n",
       "      <th>v19</th>\n",
       "      <td>3713.00</td>\n",
       "      <td>0.50</td>\n",
       "      <td>0.50</td>\n",
       "      <td>0.00</td>\n",
       "      <td>0.00</td>\n",
       "      <td>1.00</td>\n",
       "      <td>1.00</td>\n",
       "      <td>1.00</td>\n",
       "    </tr>\n",
       "  </tbody>\n",
       "</table>\n",
       "</div>"
      ],
      "text/plain": [
       "       count       mean        std      min      25%        50%        75%  \\\n",
       "v3   3713.00      32.85      12.49    13.75    22.92      28.92      40.83   \n",
       "v5   3713.00       3.43       4.34     0.00     0.54       1.75       5.00   \n",
       "v8   3713.00     164.08     158.78     0.00     0.00     120.00     280.00   \n",
       "v9   3713.00       0.00       0.00     0.00     0.00       0.00       0.00   \n",
       "v10  3713.00       4.22       6.77     0.00     0.00       2.00       6.00   \n",
       "v12  3713.00       3.32       1.00     0.00     2.64       3.32       3.99   \n",
       "v16  3713.00 1640816.05 1587819.31     0.00     0.00 1200000.00 2800000.00   \n",
       "v17  3713.00    2139.10    8548.36     0.00     0.00     108.00    1000.00   \n",
       "v19  3713.00       0.50       0.50     0.00     0.00       1.00       1.00   \n",
       "\n",
       "            max  \n",
       "v3        76.75  \n",
       "v5        28.50  \n",
       "v8      2000.00  \n",
       "v9         0.00  \n",
       "v10       67.00  \n",
       "v12        6.62  \n",
       "v16 20000000.00  \n",
       "v17   100000.00  \n",
       "v19        1.00  "
      ]
     },
     "execution_count": 46,
     "metadata": {},
     "output_type": "execute_result"
    }
   ],
   "source": [
    "# Removing v15 for having 58% missing data\n",
    "total_data = total_data.drop('v15', 1)\n",
    "\n",
    "# Obtaining data with no NAs\n",
    "total_data = total_data.dropna()\n",
    "total_data = total_data.reset_index(drop=True)\n",
    "\n",
    "# Variable description\n",
    "summary = total_data.describe()\n",
    "summary.transpose()\n"
   ]
  },
  {
   "cell_type": "code",
   "execution_count": 47,
   "metadata": {},
   "outputs": [
    {
     "data": {
      "text/html": [
       "<div>\n",
       "<style>\n",
       "    .dataframe thead tr:only-child th {\n",
       "        text-align: right;\n",
       "    }\n",
       "\n",
       "    .dataframe thead th {\n",
       "        text-align: left;\n",
       "    }\n",
       "\n",
       "    .dataframe tbody tr th {\n",
       "        vertical-align: top;\n",
       "    }\n",
       "</style>\n",
       "<table border=\"1\" class=\"dataframe\">\n",
       "  <thead>\n",
       "    <tr style=\"text-align: right;\">\n",
       "      <th>col_0</th>\n",
       "      <th>% observations</th>\n",
       "    </tr>\n",
       "    <tr>\n",
       "      <th>v1</th>\n",
       "      <th></th>\n",
       "    </tr>\n",
       "  </thead>\n",
       "  <tbody>\n",
       "    <tr>\n",
       "      <th>bb</th>\n",
       "      <td>0.09</td>\n",
       "    </tr>\n",
       "    <tr>\n",
       "      <th>dd</th>\n",
       "      <td>0.01</td>\n",
       "    </tr>\n",
       "    <tr>\n",
       "      <th>ff</th>\n",
       "      <td>0.04</td>\n",
       "    </tr>\n",
       "    <tr>\n",
       "      <th>h</th>\n",
       "      <td>0.27</td>\n",
       "    </tr>\n",
       "    <tr>\n",
       "      <th>j</th>\n",
       "      <td>0.01</td>\n",
       "    </tr>\n",
       "    <tr>\n",
       "      <th>n</th>\n",
       "      <td>0.01</td>\n",
       "    </tr>\n",
       "    <tr>\n",
       "      <th>o</th>\n",
       "      <td>0.00</td>\n",
       "    </tr>\n",
       "    <tr>\n",
       "      <th>v</th>\n",
       "      <td>0.55</td>\n",
       "    </tr>\n",
       "    <tr>\n",
       "      <th>z</th>\n",
       "      <td>0.01</td>\n",
       "    </tr>\n",
       "  </tbody>\n",
       "</table>\n",
       "</div>"
      ],
      "text/plain": [
       "col_0  % observations\n",
       "v1                   \n",
       "bb               0.09\n",
       "dd               0.01\n",
       "ff               0.04\n",
       "h                0.27\n",
       "j                0.01\n",
       "n                0.01\n",
       "o                0.00\n",
       "v                0.55\n",
       "z                0.01"
      ]
     },
     "metadata": {},
     "output_type": "display_data"
    },
    {
     "data": {
      "text/html": [
       "<div>\n",
       "<style>\n",
       "    .dataframe thead tr:only-child th {\n",
       "        text-align: right;\n",
       "    }\n",
       "\n",
       "    .dataframe thead th {\n",
       "        text-align: left;\n",
       "    }\n",
       "\n",
       "    .dataframe tbody tr th {\n",
       "        vertical-align: top;\n",
       "    }\n",
       "</style>\n",
       "<table border=\"1\" class=\"dataframe\">\n",
       "  <thead>\n",
       "    <tr style=\"text-align: right;\">\n",
       "      <th>col_0</th>\n",
       "      <th>% observations</th>\n",
       "    </tr>\n",
       "    <tr>\n",
       "      <th>v2</th>\n",
       "      <th></th>\n",
       "    </tr>\n",
       "  </thead>\n",
       "  <tbody>\n",
       "    <tr>\n",
       "      <th>g</th>\n",
       "      <td>0.94</td>\n",
       "    </tr>\n",
       "    <tr>\n",
       "      <th>p</th>\n",
       "      <td>0.00</td>\n",
       "    </tr>\n",
       "    <tr>\n",
       "      <th>s</th>\n",
       "      <td>0.05</td>\n",
       "    </tr>\n",
       "  </tbody>\n",
       "</table>\n",
       "</div>"
      ],
      "text/plain": [
       "col_0  % observations\n",
       "v2                   \n",
       "g                0.94\n",
       "p                0.00\n",
       "s                0.05"
      ]
     },
     "metadata": {},
     "output_type": "display_data"
    },
    {
     "data": {
      "text/html": [
       "<div>\n",
       "<style>\n",
       "    .dataframe thead tr:only-child th {\n",
       "        text-align: right;\n",
       "    }\n",
       "\n",
       "    .dataframe thead th {\n",
       "        text-align: left;\n",
       "    }\n",
       "\n",
       "    .dataframe tbody tr th {\n",
       "        vertical-align: top;\n",
       "    }\n",
       "</style>\n",
       "<table border=\"1\" class=\"dataframe\">\n",
       "  <thead>\n",
       "    <tr style=\"text-align: right;\">\n",
       "      <th>col_0</th>\n",
       "      <th>% observations</th>\n",
       "    </tr>\n",
       "    <tr>\n",
       "      <th>v4</th>\n",
       "      <th></th>\n",
       "    </tr>\n",
       "  </thead>\n",
       "  <tbody>\n",
       "    <tr>\n",
       "      <th>f</th>\n",
       "      <td>0.09</td>\n",
       "    </tr>\n",
       "    <tr>\n",
       "      <th>t</th>\n",
       "      <td>0.91</td>\n",
       "    </tr>\n",
       "  </tbody>\n",
       "</table>\n",
       "</div>"
      ],
      "text/plain": [
       "col_0  % observations\n",
       "v4                   \n",
       "f                0.09\n",
       "t                0.91"
      ]
     },
     "metadata": {},
     "output_type": "display_data"
    },
    {
     "data": {
      "text/html": [
       "<div>\n",
       "<style>\n",
       "    .dataframe thead tr:only-child th {\n",
       "        text-align: right;\n",
       "    }\n",
       "\n",
       "    .dataframe thead th {\n",
       "        text-align: left;\n",
       "    }\n",
       "\n",
       "    .dataframe tbody tr th {\n",
       "        vertical-align: top;\n",
       "    }\n",
       "</style>\n",
       "<table border=\"1\" class=\"dataframe\">\n",
       "  <thead>\n",
       "    <tr style=\"text-align: right;\">\n",
       "      <th>col_0</th>\n",
       "      <th>% observations</th>\n",
       "    </tr>\n",
       "    <tr>\n",
       "      <th>v6</th>\n",
       "      <th></th>\n",
       "    </tr>\n",
       "  </thead>\n",
       "  <tbody>\n",
       "    <tr>\n",
       "      <th>a</th>\n",
       "      <td>0.35</td>\n",
       "    </tr>\n",
       "    <tr>\n",
       "      <th>b</th>\n",
       "      <td>0.65</td>\n",
       "    </tr>\n",
       "  </tbody>\n",
       "</table>\n",
       "</div>"
      ],
      "text/plain": [
       "col_0  % observations\n",
       "v6                   \n",
       "a                0.35\n",
       "b                0.65"
      ]
     },
     "metadata": {},
     "output_type": "display_data"
    },
    {
     "data": {
      "text/html": [
       "<div>\n",
       "<style>\n",
       "    .dataframe thead tr:only-child th {\n",
       "        text-align: right;\n",
       "    }\n",
       "\n",
       "    .dataframe thead th {\n",
       "        text-align: left;\n",
       "    }\n",
       "\n",
       "    .dataframe tbody tr th {\n",
       "        vertical-align: top;\n",
       "    }\n",
       "</style>\n",
       "<table border=\"1\" class=\"dataframe\">\n",
       "  <thead>\n",
       "    <tr style=\"text-align: right;\">\n",
       "      <th>col_0</th>\n",
       "      <th>% observations</th>\n",
       "    </tr>\n",
       "    <tr>\n",
       "      <th>v7</th>\n",
       "      <th></th>\n",
       "    </tr>\n",
       "  </thead>\n",
       "  <tbody>\n",
       "    <tr>\n",
       "      <th>f</th>\n",
       "      <td>0.39</td>\n",
       "    </tr>\n",
       "    <tr>\n",
       "      <th>t</th>\n",
       "      <td>0.61</td>\n",
       "    </tr>\n",
       "  </tbody>\n",
       "</table>\n",
       "</div>"
      ],
      "text/plain": [
       "col_0  % observations\n",
       "v7                   \n",
       "f                0.39\n",
       "t                0.61"
      ]
     },
     "metadata": {},
     "output_type": "display_data"
    },
    {
     "data": {
      "text/html": [
       "<div>\n",
       "<style>\n",
       "    .dataframe thead tr:only-child th {\n",
       "        text-align: right;\n",
       "    }\n",
       "\n",
       "    .dataframe thead th {\n",
       "        text-align: left;\n",
       "    }\n",
       "\n",
       "    .dataframe tbody tr th {\n",
       "        vertical-align: top;\n",
       "    }\n",
       "</style>\n",
       "<table border=\"1\" class=\"dataframe\">\n",
       "  <thead>\n",
       "    <tr style=\"text-align: right;\">\n",
       "      <th>col_0</th>\n",
       "      <th>% observations</th>\n",
       "    </tr>\n",
       "    <tr>\n",
       "      <th>v11</th>\n",
       "      <th></th>\n",
       "    </tr>\n",
       "  </thead>\n",
       "  <tbody>\n",
       "    <tr>\n",
       "      <th>l</th>\n",
       "      <td>0.01</td>\n",
       "    </tr>\n",
       "    <tr>\n",
       "      <th>u</th>\n",
       "      <td>0.83</td>\n",
       "    </tr>\n",
       "    <tr>\n",
       "      <th>y</th>\n",
       "      <td>0.16</td>\n",
       "    </tr>\n",
       "  </tbody>\n",
       "</table>\n",
       "</div>"
      ],
      "text/plain": [
       "col_0  % observations\n",
       "v11                  \n",
       "l                0.01\n",
       "u                0.83\n",
       "y                0.16"
      ]
     },
     "metadata": {},
     "output_type": "display_data"
    },
    {
     "data": {
      "text/html": [
       "<div>\n",
       "<style>\n",
       "    .dataframe thead tr:only-child th {\n",
       "        text-align: right;\n",
       "    }\n",
       "\n",
       "    .dataframe thead th {\n",
       "        text-align: left;\n",
       "    }\n",
       "\n",
       "    .dataframe tbody tr th {\n",
       "        vertical-align: top;\n",
       "    }\n",
       "</style>\n",
       "<table border=\"1\" class=\"dataframe\">\n",
       "  <thead>\n",
       "    <tr style=\"text-align: right;\">\n",
       "      <th>col_0</th>\n",
       "      <th>% observations</th>\n",
       "    </tr>\n",
       "    <tr>\n",
       "      <th>v13</th>\n",
       "      <th></th>\n",
       "    </tr>\n",
       "  </thead>\n",
       "  <tbody>\n",
       "    <tr>\n",
       "      <th>f</th>\n",
       "      <td>0.50</td>\n",
       "    </tr>\n",
       "    <tr>\n",
       "      <th>t</th>\n",
       "      <td>0.50</td>\n",
       "    </tr>\n",
       "  </tbody>\n",
       "</table>\n",
       "</div>"
      ],
      "text/plain": [
       "col_0  % observations\n",
       "v13                  \n",
       "f                0.50\n",
       "t                0.50"
      ]
     },
     "metadata": {},
     "output_type": "display_data"
    },
    {
     "data": {
      "text/html": [
       "<div>\n",
       "<style>\n",
       "    .dataframe thead tr:only-child th {\n",
       "        text-align: right;\n",
       "    }\n",
       "\n",
       "    .dataframe thead th {\n",
       "        text-align: left;\n",
       "    }\n",
       "\n",
       "    .dataframe tbody tr th {\n",
       "        vertical-align: top;\n",
       "    }\n",
       "</style>\n",
       "<table border=\"1\" class=\"dataframe\">\n",
       "  <thead>\n",
       "    <tr style=\"text-align: right;\">\n",
       "      <th>col_0</th>\n",
       "      <th>% observations</th>\n",
       "    </tr>\n",
       "    <tr>\n",
       "      <th>v14</th>\n",
       "      <th></th>\n",
       "    </tr>\n",
       "  </thead>\n",
       "  <tbody>\n",
       "    <tr>\n",
       "      <th>W</th>\n",
       "      <td>0.10</td>\n",
       "    </tr>\n",
       "    <tr>\n",
       "      <th>aa</th>\n",
       "      <td>0.06</td>\n",
       "    </tr>\n",
       "    <tr>\n",
       "      <th>c</th>\n",
       "      <td>0.21</td>\n",
       "    </tr>\n",
       "    <tr>\n",
       "      <th>cc</th>\n",
       "      <td>0.10</td>\n",
       "    </tr>\n",
       "    <tr>\n",
       "      <th>d</th>\n",
       "      <td>0.03</td>\n",
       "    </tr>\n",
       "    <tr>\n",
       "      <th>e</th>\n",
       "      <td>0.04</td>\n",
       "    </tr>\n",
       "    <tr>\n",
       "      <th>ff</th>\n",
       "      <td>0.04</td>\n",
       "    </tr>\n",
       "    <tr>\n",
       "      <th>i</th>\n",
       "      <td>0.06</td>\n",
       "    </tr>\n",
       "    <tr>\n",
       "      <th>j</th>\n",
       "      <td>0.01</td>\n",
       "    </tr>\n",
       "    <tr>\n",
       "      <th>k</th>\n",
       "      <td>0.05</td>\n",
       "    </tr>\n",
       "    <tr>\n",
       "      <th>m</th>\n",
       "      <td>0.05</td>\n",
       "    </tr>\n",
       "    <tr>\n",
       "      <th>q</th>\n",
       "      <td>0.16</td>\n",
       "    </tr>\n",
       "    <tr>\n",
       "      <th>r</th>\n",
       "      <td>0.01</td>\n",
       "    </tr>\n",
       "    <tr>\n",
       "      <th>x</th>\n",
       "      <td>0.09</td>\n",
       "    </tr>\n",
       "  </tbody>\n",
       "</table>\n",
       "</div>"
      ],
      "text/plain": [
       "col_0  % observations\n",
       "v14                  \n",
       "W                0.10\n",
       "aa               0.06\n",
       "c                0.21\n",
       "cc               0.10\n",
       "d                0.03\n",
       "e                0.04\n",
       "ff               0.04\n",
       "i                0.06\n",
       "j                0.01\n",
       "k                0.05\n",
       "m                0.05\n",
       "q                0.16\n",
       "r                0.01\n",
       "x                0.09"
      ]
     },
     "metadata": {},
     "output_type": "display_data"
    },
    {
     "data": {
      "text/html": [
       "<div>\n",
       "<style>\n",
       "    .dataframe thead tr:only-child th {\n",
       "        text-align: right;\n",
       "    }\n",
       "\n",
       "    .dataframe thead th {\n",
       "        text-align: left;\n",
       "    }\n",
       "\n",
       "    .dataframe tbody tr th {\n",
       "        vertical-align: top;\n",
       "    }\n",
       "</style>\n",
       "<table border=\"1\" class=\"dataframe\">\n",
       "  <thead>\n",
       "    <tr style=\"text-align: right;\">\n",
       "      <th>col_0</th>\n",
       "      <th>% observations</th>\n",
       "    </tr>\n",
       "    <tr>\n",
       "      <th>v18</th>\n",
       "      <th></th>\n",
       "    </tr>\n",
       "  </thead>\n",
       "  <tbody>\n",
       "    <tr>\n",
       "      <th>g</th>\n",
       "      <td>0.83</td>\n",
       "    </tr>\n",
       "    <tr>\n",
       "      <th>gg</th>\n",
       "      <td>0.01</td>\n",
       "    </tr>\n",
       "    <tr>\n",
       "      <th>p</th>\n",
       "      <td>0.16</td>\n",
       "    </tr>\n",
       "  </tbody>\n",
       "</table>\n",
       "</div>"
      ],
      "text/plain": [
       "col_0  % observations\n",
       "v18                  \n",
       "g                0.83\n",
       "gg               0.01\n",
       "p                0.16"
      ]
     },
     "metadata": {},
     "output_type": "display_data"
    },
    {
     "data": {
      "text/html": [
       "<div>\n",
       "<style>\n",
       "    .dataframe thead tr:only-child th {\n",
       "        text-align: right;\n",
       "    }\n",
       "\n",
       "    .dataframe thead th {\n",
       "        text-align: left;\n",
       "    }\n",
       "\n",
       "    .dataframe tbody tr th {\n",
       "        vertical-align: top;\n",
       "    }\n",
       "</style>\n",
       "<table border=\"1\" class=\"dataframe\">\n",
       "  <thead>\n",
       "    <tr style=\"text-align: right;\">\n",
       "      <th>col_0</th>\n",
       "      <th>% observations</th>\n",
       "    </tr>\n",
       "    <tr>\n",
       "      <th>v19</th>\n",
       "      <th></th>\n",
       "    </tr>\n",
       "  </thead>\n",
       "  <tbody>\n",
       "    <tr>\n",
       "      <th>0</th>\n",
       "      <td>0.50</td>\n",
       "    </tr>\n",
       "    <tr>\n",
       "      <th>1</th>\n",
       "      <td>0.50</td>\n",
       "    </tr>\n",
       "  </tbody>\n",
       "</table>\n",
       "</div>"
      ],
      "text/plain": [
       "col_0  % observations\n",
       "v19                  \n",
       "0                0.50\n",
       "1                0.50"
      ]
     },
     "metadata": {},
     "output_type": "display_data"
    },
    {
     "data": {
      "text/html": [
       "<div>\n",
       "<style>\n",
       "    .dataframe thead tr:only-child th {\n",
       "        text-align: right;\n",
       "    }\n",
       "\n",
       "    .dataframe thead th {\n",
       "        text-align: left;\n",
       "    }\n",
       "\n",
       "    .dataframe tbody tr th {\n",
       "        vertical-align: top;\n",
       "    }\n",
       "</style>\n",
       "<table border=\"1\" class=\"dataframe\">\n",
       "  <thead>\n",
       "    <tr style=\"text-align: right;\">\n",
       "      <th>col_0</th>\n",
       "      <th>% observations</th>\n",
       "    </tr>\n",
       "    <tr>\n",
       "      <th>v20</th>\n",
       "      <th></th>\n",
       "    </tr>\n",
       "  </thead>\n",
       "  <tbody>\n",
       "    <tr>\n",
       "      <th>f</th>\n",
       "      <td>0.57</td>\n",
       "    </tr>\n",
       "    <tr>\n",
       "      <th>t</th>\n",
       "      <td>0.43</td>\n",
       "    </tr>\n",
       "  </tbody>\n",
       "</table>\n",
       "</div>"
      ],
      "text/plain": [
       "col_0  % observations\n",
       "v20                  \n",
       "f                0.57\n",
       "t                0.43"
      ]
     },
     "metadata": {},
     "output_type": "display_data"
    },
    {
     "data": {
      "text/html": [
       "<div>\n",
       "<style>\n",
       "    .dataframe thead tr:only-child th {\n",
       "        text-align: right;\n",
       "    }\n",
       "\n",
       "    .dataframe thead th {\n",
       "        text-align: left;\n",
       "    }\n",
       "\n",
       "    .dataframe tbody tr th {\n",
       "        vertical-align: top;\n",
       "    }\n",
       "</style>\n",
       "<table border=\"1\" class=\"dataframe\">\n",
       "  <thead>\n",
       "    <tr style=\"text-align: right;\">\n",
       "      <th>col_0</th>\n",
       "      <th>% observations</th>\n",
       "    </tr>\n",
       "    <tr>\n",
       "      <th>v21</th>\n",
       "      <th></th>\n",
       "    </tr>\n",
       "  </thead>\n",
       "  <tbody>\n",
       "    <tr>\n",
       "      <th>f</th>\n",
       "      <td>0.57</td>\n",
       "    </tr>\n",
       "    <tr>\n",
       "      <th>t</th>\n",
       "      <td>0.43</td>\n",
       "    </tr>\n",
       "  </tbody>\n",
       "</table>\n",
       "</div>"
      ],
      "text/plain": [
       "col_0  % observations\n",
       "v21                  \n",
       "f                0.57\n",
       "t                0.43"
      ]
     },
     "metadata": {},
     "output_type": "display_data"
    }
   ],
   "source": [
    "# Frequency tables for each categorical variable\n",
    "\n",
    "features = total_data[['v1', 'v2', 'v4', 'v6', 'v7', 'v11', 'v13', \n",
    "                      'v14', 'v18', 'v19', 'v20', 'v21']]\n",
    "                     \n",
    "for column in features.columns:     \n",
    "    display(pd.crosstab(index = features[column], columns='% observations', normalize='columns'))\n"
   ]
  },
  {
   "cell_type": "code",
   "execution_count": 48,
   "metadata": {},
   "outputs": [
    {
     "data": {
      "image/png": "[encoded data removed]",
      "text/plain": [
       "<matplotlib.figure.Figure at 0x1a0ec39128>"
      ]
     },
     "metadata": {},
     "output_type": "display_data"
    }
   ],
   "source": [
    "# Histograms for each numeric variable\n",
    "\n",
    "numeric = total_data[['v3','v5','v8','v9','v10','v12','v16','v17']]\n",
    "numeric = numeric.astype(int)\n",
    "numeric.hist(bins=20, sharey=True, figsize=(12, 12))\n",
    "plt.show()\n"
   ]
  },
  {
   "cell_type": "code",
   "execution_count": 49,
   "metadata": {},
   "outputs": [
    {
     "data": {
      "text/plain": [
       "yes.    3356\n",
       "no.      357\n",
       "Name: classlabel, dtype: int64"
      ]
     },
     "execution_count": 49,
     "metadata": {},
     "output_type": "execute_result"
    }
   ],
   "source": [
    "# Value count for the class label (Y variable)\n",
    "\n",
    "total_data['classlabel'].value_counts()\n"
   ]
  },
  {
   "cell_type": "code",
   "execution_count": 50,
   "metadata": {},
   "outputs": [
    {
     "data": {
      "text/plain": [
       "1    3356\n",
       "0     357\n",
       "Name: classlabel, dtype: int64"
      ]
     },
     "execution_count": 50,
     "metadata": {},
     "output_type": "execute_result"
    }
   ],
   "source": [
    "# Encoding the classlabel\n",
    "\n",
    "total_struct = total_data\n",
    "class_mapping = {label:idx for idx,label in enumerate(np.unique(total_data['classlabel']))}\n",
    "total_struct['classlabel'] = total_data['classlabel'].map(class_mapping)\n",
    "total_struct['classlabel'].value_counts()\n"
   ]
  },
  {
   "cell_type": "markdown",
   "metadata": {},
   "source": [
    "From the tables above, we can observe the binary distribution of our dependent variable. Thus, we have around 90% Yes values, representing persons that have repaid their loan and about 10% No values, or persons that have defaulted on their loan. These have been encoded with 1 and 0 for ease of computation."
   ]
  },
  {
   "cell_type": "code",
   "execution_count": 61,
   "metadata": {
    "collapsed": true
   },
   "outputs": [],
   "source": [
    "# Export cleaned database to spreadsheet\n",
    "\n",
    "total_struct.to_csv('kreditech.csv')"
   ]
  },
  {
   "cell_type": "markdown",
   "metadata": {},
   "source": [
    "## Testing for Correlation between numeric predictors\n",
    "\n",
    "Before selecting and training a predictive model, we want to test for variable correlation. There are three main reasons to remove highly correlated features:\n",
    "\n",
    "- *Faster learning algorithm*\n",
    "\n",
    "Due to the curse of dimensionality, less features usually means high improvement in terms of speed. If speed is not an issue, we don't have to remove these features right away, we can check the following point.\n",
    "\n",
    "- *Decrease harmful bias*\n",
    "\n",
    "Some Machine Learning algorithms will build unstable models if two or more highly correlated variables are included in the model, and others will just slow down.\n",
    "\n",
    "- *Interpretability of the model*\n",
    "\n",
    "Random forests can be good at detecting interactions between different features, but highly correlated features can mask these interactions. More generally, this can be viewed as a special case of Occam's razor. A simpler model is preferable, and, in some sense, a model with fewer features is simpler. The concept of minimum description length makes this more precise."
   ]
  },
  {
   "cell_type": "code",
   "execution_count": 51,
   "metadata": {
    "scrolled": true
   },
   "outputs": [
    {
     "name": "stdout",
     "output_type": "stream",
     "text": [
      "  var1 var2  correlation\n",
      "0   v8  v16         1.00\n",
      "1  v16   v8         1.00\n"
     ]
    }
   ],
   "source": [
    "# Testing for variable correlations: correlation matrix and scatter plot\n",
    "\n",
    "correlation_matrix = numeric.corr()\n",
    "\n",
    "# Print variables with a correlation factor > 0.9\n",
    "\n",
    "corr_m = correlation_matrix.unstack().reset_index() # group together pairwise\n",
    "corr_m.columns = ['var1', 'var2', 'correlation'] # rename columns to something readable\n",
    "problematic_corr = corr_m[(corr_m['correlation'].abs() > 0.9) & (corr_m['var1'] != corr_m['var2'])]\n",
    "problematic_corr = problematic_corr.sort_values('correlation', ascending = False)\n",
    "problematic_corr = problematic_corr.reset_index(drop = True)\n",
    "problematic_corr['correlation'] = problematic_corr['correlation'].round(2)\n",
    "\n",
    "print(problematic_corr)\n"
   ]
  },
  {
   "cell_type": "markdown",
   "metadata": {},
   "source": [
    "Whenever two supposedly independent variables are highly correlated, it will be difficult to assess their relative importance in determining the dependent variable. The higher the correlation between independent variables, the greater the sampling error of the model. High correlation for predictive models is usually defined to be a value above 0.9 (or 90%), therefore, we have to remove one feature for each above pair of correlated variables."
   ]
  },
  {
   "cell_type": "code",
   "execution_count": 52,
   "metadata": {},
   "outputs": [
    {
     "name": "stdout",
     "output_type": "stream",
     "text": [
      "<class 'pandas.core.frame.DataFrame'>\n",
      "RangeIndex: 3713 entries, 0 to 3712\n",
      "Data columns (total 51 columns):\n",
      "v3        3713 non-null int64\n",
      "v5        3713 non-null int64\n",
      "v8        3713 non-null int64\n",
      "v10       3713 non-null int64\n",
      "v12       3713 non-null int64\n",
      "v17       3713 non-null int64\n",
      "v19       3713 non-null int64\n",
      "v1_bb     3713 non-null uint8\n",
      "v1_dd     3713 non-null uint8\n",
      "v1_ff     3713 non-null uint8\n",
      "v1_h      3713 non-null uint8\n",
      "v1_j      3713 non-null uint8\n",
      "v1_n      3713 non-null uint8\n",
      "v1_o      3713 non-null uint8\n",
      "v1_v      3713 non-null uint8\n",
      "v1_z      3713 non-null uint8\n",
      "v2_g      3713 non-null uint8\n",
      "v2_p      3713 non-null uint8\n",
      "v2_s      3713 non-null uint8\n",
      "v4_f      3713 non-null uint8\n",
      "v4_t      3713 non-null uint8\n",
      "v6_a      3713 non-null uint8\n",
      "v6_b      3713 non-null uint8\n",
      "v7_f      3713 non-null uint8\n",
      "v7_t      3713 non-null uint8\n",
      "v11_l     3713 non-null uint8\n",
      "v11_u     3713 non-null uint8\n",
      "v11_y     3713 non-null uint8\n",
      "v13_f     3713 non-null uint8\n",
      "v13_t     3713 non-null uint8\n",
      "v14_W     3713 non-null uint8\n",
      "v14_aa    3713 non-null uint8\n",
      "v14_c     3713 non-null uint8\n",
      "v14_cc    3713 non-null uint8\n",
      "v14_d     3713 non-null uint8\n",
      "v14_e     3713 non-null uint8\n",
      "v14_ff    3713 non-null uint8\n",
      "v14_i     3713 non-null uint8\n",
      "v14_j     3713 non-null uint8\n",
      "v14_k     3713 non-null uint8\n",
      "v14_m     3713 non-null uint8\n",
      "v14_q     3713 non-null uint8\n",
      "v14_r     3713 non-null uint8\n",
      "v14_x     3713 non-null uint8\n",
      "v18_g     3713 non-null uint8\n",
      "v18_gg    3713 non-null uint8\n",
      "v18_p     3713 non-null uint8\n",
      "v20_f     3713 non-null uint8\n",
      "v20_t     3713 non-null uint8\n",
      "v21_f     3713 non-null uint8\n",
      "v21_t     3713 non-null uint8\n",
      "dtypes: int64(7), uint8(44)\n",
      "memory usage: 362.7 KB\n",
      "None\n"
     ]
    }
   ],
   "source": [
    "# Drop v16 for being the same as v8 and v9 for having no data variation\n",
    "\n",
    "features = pd.get_dummies(features)\n",
    "numeric = numeric.drop(['v16', 'v9'], 1)\n",
    "Y = total_struct['classlabel']\n",
    "X = pd.concat([numeric, features], axis=1)   #num.reset_index(drop=True)\n",
    "\n",
    "print(X.info())"
   ]
  },
  {
   "cell_type": "markdown",
   "metadata": {},
   "source": [
    "As it can be seen above, we have ended up with one dependent variable, `Y` and 51 numeric or dummy predictors to be used as factors in the XGBoost predictive model. The number of records, 3713, is, in fact, the number of distinct customers that we have (one line of data for each user).\n",
    "\n",
    "## Predictive modeling\n",
    "We can now begin building the predictive model. The first step is to partition our data into a training and a testing set. The training set will be used to prepare the XGBoost model and the test set will be used to make new predictions, from which we can evaluate the performance of the model.\n",
    "\n",
    "For this we will use the *train_test_split()* function from the scikit-learn library. The partition will be a 70%-30% split between training and test data. We also specify a seed for the random number generator so that we always get the same partitioning of data each time this example is executed."
   ]
  },
  {
   "cell_type": "code",
   "execution_count": 53,
   "metadata": {},
   "outputs": [
    {
     "name": "stdout",
     "output_type": "stream",
     "text": [
      "Value counts for Y training variable\n",
      "1    2349\n",
      "0     250\n",
      "Name: classlabel, dtype: int64\n",
      "\n",
      "Value counts for Y test variable\n",
      "1    1007\n",
      "0     107\n",
      "Name: classlabel, dtype: int64\n"
     ]
    }
   ],
   "source": [
    "# Partition the dataset into training and validation\n",
    "\n",
    "X_train, X_test, y_train, y_test = train_test_split(X, Y, test_size=0.3, random_state=0)\n",
    "\n",
    "print(\"Value counts for Y training variable\")\n",
    "print(y_train.value_counts())\n",
    "print()\n",
    "print(\"Value counts for Y test variable\")\n",
    "print(y_test.value_counts())\n"
   ]
  },
  {
   "cell_type": "markdown",
   "metadata": {},
   "source": [
    "From the above, we can observe the split value counts for our dependent variable. In the training set, we have 2349 Repayments or 90.38% of total and 250 Defaults or almost 10% of total. In the validation set, we have 1007 Repayments or 90.39% of total and 107 Defaults or or almost 10% of total.\n",
    "\n",
    "We are now ready to train our model. XGBoost provides a wrapper class to allow models to be treated like classifiers or regressors in the scikit-learn framework. The XGBoost model for classification is called XGBClassifier. We can create and and fit it to our training dataset. Models are fit using the scikit-learn API and the *.fit()* function.\n",
    "Parameters for training the model can be passed to the model in the constructor. Here, we use the sensible defaults."
   ]
  },
  {
   "cell_type": "code",
   "execution_count": 54,
   "metadata": {},
   "outputs": [
    {
     "data": {
      "text/plain": [
       "XGBClassifier(base_score=0.5, colsample_bylevel=1, colsample_bytree=1,\n",
       "       gamma=0, learning_rate=0.1, max_delta_step=0, max_depth=3,\n",
       "       min_child_weight=1, missing=None, n_estimators=100, nthread=-1,\n",
       "       objective='binary:logistic', reg_alpha=0, reg_lambda=1,\n",
       "       scale_pos_weight=1, seed=0, silent=True, subsample=1)"
      ]
     },
     "execution_count": 54,
     "metadata": {},
     "output_type": "execute_result"
    }
   ],
   "source": [
    "# Fit model to training data\n",
    "\n",
    "model = XGBClassifier()\n",
    "model.fit(X_train, y_train)\n"
   ]
  },
  {
   "cell_type": "markdown",
   "metadata": {},
   "source": [
    "The meaning of each parameter and how to configure them can be studied in depth on the XGBoost parameters page: http://xgboost.readthedocs.io/en/latest//parameter.html \n",
    "\n",
    "We are now ready to use the XGBoost model for prediction. We can make predictions using the fitted model on the test dataset, by applying the scikit-learn function *.predict()*. By default, the predictions made by the algorithm are probabilities. Because this is a binary classification problem, each prediction is the probability of the input pattern belonging to the first class. However, the model automatically rounds this probabilities to 0 and 1, based on a cutoff point with a default value of 0.5."
   ]
  },
  {
   "cell_type": "code",
   "execution_count": 55,
   "metadata": {},
   "outputs": [
    {
     "name": "stdout",
     "output_type": "stream",
     "text": [
      "Accuracy: 97.58%\n",
      "1087 correct predictions from a total of 1114\n",
      "\n",
      "             precision    recall  f1-score   support\n",
      "\n",
      "     0 - No       0.93      0.81      0.87       107\n",
      "    1 - Yes       0.98      0.99      0.99      1007\n",
      "\n",
      "avg / total       0.98      0.98      0.98      1114\n",
      "\n"
     ]
    }
   ],
   "source": [
    "#Predictions on validation data set\n",
    "\n",
    "y_pred = model.predict(X_test)\n",
    "accuracy = accuracy_score(y_test, y_pred)\n",
    "print(\"Accuracy: %.2f%%\" % (accuracy * 100.0))\n",
    "print(accuracy_score(y_test, y_pred, normalize=False), \"correct predictions from a total of\", len(y_pred))\n",
    "print()\n",
    "target_names = ['0 - No', '1 - Yes']\n",
    "print(classification_report(y_test, y_pred, target_names = target_names))\n"
   ]
  },
  {
   "cell_type": "markdown",
   "metadata": {},
   "source": [
    "From the results above, we can note that the overall accuracy of the XGBoost model is 97.58%. This means that the algorithm correctly predicted 1087 out of 1114 `Y` values in the validation dataset. \n",
    "\n",
    "Some other interesting coefficients are obtained in the classification report. The *precision* is the ratio TP / (TP + FP) where TP is the number of True Positives and FP the number of False Positives. The precision is intuitively the ability of the classifier not to label as positive a sample that is negative.\n",
    "\n",
    "The *recall* is the ratio TP / (TP + FN) where TP is the number of True Positives and FN the number of False Negatives. The recall is intuitively the ability of the classifier to find all the positive samples.\n",
    "\n",
    "The *Fbeta-score* can be interpreted as a weighted harmonic mean of the precision and recall, where an Fbeta-score reaches its best value at 1 and worst score at 0. For beta = 1.0 the *f1-score* is when recall and precision are considered equally important.\n",
    "\n",
    "The *support* is the number of occurrences of each class in the test dataset."
   ]
  },
  {
   "cell_type": "code",
   "execution_count": 56,
   "metadata": {},
   "outputs": [
    {
     "name": "stdout",
     "output_type": "stream",
     "text": [
      "Confusion matrix for cutoff 0.5\n",
      "[[  87   20]\n",
      " [   7 1000]]\n"
     ]
    }
   ],
   "source": [
    "# Confusion matrix TN FP / FN TP\n",
    "\n",
    "m_confusion = confusion_matrix(y_test, y_pred)\n",
    "print(\"Confusion matrix for cutoff 0.5\")\n",
    "print(m_confusion)"
   ]
  },
  {
   "cell_type": "markdown",
   "metadata": {},
   "source": [
    "The confusion matrix above shows the distribution of correctly predicted (trues) and incorrectly predicted (negatives) values. The top left value is the True Negatives or the correctly predicted Defaults, while the bottom right value is the True Positives or the correctly predicted Repayments. The top right value is the False Positives or the incorrectly predicted Defaults, while the bottom left value is the False Negatives or the incorrectly predicted Repayments.\n",
    "\n",
    "At the end of the prediction stage, we can visualize the variable importances in the XGBoost model using the function *plot_importance()* built in the matplotlib.pyplot framework."
   ]
  },
  {
   "cell_type": "code",
   "execution_count": 57,
   "metadata": {},
   "outputs": [
    {
     "data": {
      "image/png": "[encoded data removed]",
      "text/plain": [
       "<matplotlib.figure.Figure at 0x1a1327c128>"
      ]
     },
     "metadata": {},
     "output_type": "display_data"
    }
   ],
   "source": [
    "# Plotting variable importance\n",
    "\n",
    "fig, ax = plt.subplots(figsize=(14, 14))\n",
    "plot_importance(model, ax = ax, height=0.7)\n",
    "plt.show()\n"
   ]
  },
  {
   "cell_type": "markdown",
   "metadata": {},
   "source": [
    "Thus, the 5 most important predictors in the model are:\n",
    "- `v8` with a score of 85\n",
    "- `v4_f` with a score of 78\n",
    "- `v3` with a score of 71\n",
    "- `v17` with a score of 52\n",
    "- `v20_f` with a score of 50"
   ]
  },
  {
   "cell_type": "code",
   "execution_count": 58,
   "metadata": {},
   "outputs": [
    {
     "name": "stdout",
     "output_type": "stream",
     "text": [
      "Thresh=0.000, n=51, Accuracy: 97.58%\n",
      "Thresh=0.000, n=51, Accuracy: 97.58%\n",
      "Thresh=0.000, n=51, Accuracy: 97.58%\n",
      "Thresh=0.000, n=51, Accuracy: 97.58%\n",
      "Thresh=0.000, n=51, Accuracy: 97.58%\n",
      "Thresh=0.000, n=51, Accuracy: 97.58%\n",
      "Thresh=0.000, n=51, Accuracy: 97.58%\n",
      "Thresh=0.000, n=51, Accuracy: 97.58%\n",
      "Thresh=0.000, n=51, Accuracy: 97.58%\n",
      "Thresh=0.000, n=51, Accuracy: 97.58%\n",
      "Thresh=0.000, n=51, Accuracy: 97.58%\n",
      "Thresh=0.000, n=51, Accuracy: 97.58%\n",
      "Thresh=0.000, n=51, Accuracy: 97.58%\n",
      "Thresh=0.000, n=51, Accuracy: 97.58%\n",
      "Thresh=0.000, n=51, Accuracy: 97.58%\n",
      "Thresh=0.000, n=51, Accuracy: 97.58%\n",
      "Thresh=0.000, n=51, Accuracy: 97.58%\n",
      "Thresh=0.000, n=51, Accuracy: 97.58%\n",
      "Thresh=0.000, n=51, Accuracy: 97.58%\n",
      "Thresh=0.000, n=51, Accuracy: 97.58%\n",
      "Thresh=0.000, n=51, Accuracy: 97.58%\n",
      "Thresh=0.000, n=51, Accuracy: 97.58%\n",
      "Thresh=0.000, n=51, Accuracy: 97.58%\n",
      "Thresh=0.000, n=51, Accuracy: 97.58%\n",
      "Thresh=0.002, n=27, Accuracy: 97.58%\n",
      "Thresh=0.002, n=27, Accuracy: 97.58%\n",
      "Thresh=0.002, n=27, Accuracy: 97.58%\n",
      "Thresh=0.003, n=24, Accuracy: 97.67%\n",
      "Thresh=0.003, n=24, Accuracy: 97.67%\n",
      "Thresh=0.005, n=22, Accuracy: 97.58%\n",
      "Thresh=0.007, n=21, Accuracy: 97.49%\n",
      "Thresh=0.007, n=21, Accuracy: 97.49%\n",
      "Thresh=0.007, n=21, Accuracy: 97.49%\n",
      "Thresh=0.007, n=21, Accuracy: 97.49%\n",
      "Thresh=0.007, n=21, Accuracy: 97.49%\n",
      "Thresh=0.007, n=21, Accuracy: 97.49%\n",
      "Thresh=0.015, n=15, Accuracy: 97.58%\n",
      "Thresh=0.016, n=14, Accuracy: 97.58%\n",
      "Thresh=0.016, n=14, Accuracy: 97.58%\n",
      "Thresh=0.021, n=12, Accuracy: 97.49%\n",
      "Thresh=0.024, n=11, Accuracy: 97.49%\n",
      "Thresh=0.042, n=10, Accuracy: 97.49%\n",
      "Thresh=0.049, n=9, Accuracy: 97.49%\n",
      "Thresh=0.069, n=8, Accuracy: 97.49%\n",
      "Thresh=0.070, n=7, Accuracy: 97.49%\n",
      "Thresh=0.073, n=6, Accuracy: 97.40%\n",
      "Thresh=0.082, n=5, Accuracy: 96.86%\n",
      "Thresh=0.085, n=4, Accuracy: 96.32%\n",
      "Thresh=0.116, n=3, Accuracy: 95.78%\n",
      "Thresh=0.127, n=2, Accuracy: 96.32%\n",
      "Thresh=0.139, n=1, Accuracy: 90.93%\n"
     ]
    }
   ],
   "source": [
    "# Fit model using each importance as a threshold\n",
    "\n",
    "thresholds = sort(model.feature_importances_)\n",
    "for thresh in thresholds:\n",
    "    # select features using threshold\n",
    "    selection = SelectFromModel(model, threshold=thresh, prefit=True)\n",
    "    select_X_train = selection.transform(X_train)\n",
    "    # train model\n",
    "    selection_model = XGBClassifier()\n",
    "    selection_model.fit(select_X_train, y_train)\n",
    "    # eval model\n",
    "    select_X_test = selection.transform(X_test)\n",
    "    y_pred = selection_model.predict(select_X_test)\n",
    "    accuracy = accuracy_score(y_test, y_pred)\n",
    "    print(\"Thresh=%.3f, n=%d, Accuracy: %.2f%%\" % (thresh, select_X_train.shape[1], accuracy*100.0))\n",
    "    "
   ]
  },
  {
   "cell_type": "markdown",
   "metadata": {},
   "source": [
    "In conclusion, we notice that when we keep 24 components the model accuracy actually increases by 0.09% to 97.67%. Therefore, it is definitely advisable to rebuild the model with the 24 principal components as it will reduce computation time and slightly increase the overall accuracy."
   ]
  }
 ],
 "metadata": {
  "kernelspec": {
   "display_name": "Python 3",
   "language": "python",
   "name": "python3"
  },
  "language_info": {
   "codemirror_mode": {
    "name": "ipython",
    "version": 3
   },
   "file_extension": ".py",
   "mimetype": "text/x-python",
   "name": "python",
   "nbconvert_exporter": "python",
   "pygments_lexer": "ipython3",
   "version": "3.6.3"
  }
 },
 "nbformat": 4,
 "nbformat_minor": 2
}
